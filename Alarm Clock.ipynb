{
 "cells": [
  {
   "cell_type": "code",
   "execution_count": 1,
   "id": "19e03e24",
   "metadata": {},
   "outputs": [
    {
     "name": "stdout",
     "output_type": "stream",
     "text": [
      "Creating \"youtube.txt\"...\n",
      "Set a time for the alarm (Ex. 06:30 or 18:30:00)\n",
      ">> 19:50:00\n",
      "Alarm set to go off in 0:00:20\n",
      "Wake Up!\n"
     ]
    },
    {
     "data": {
      "text/plain": [
       "True"
      ]
     },
     "execution_count": 1,
     "metadata": {},
     "output_type": "execute_result"
    }
   ],
   "source": [
    "import datetime\n",
    "import os\n",
    "import time\n",
    "import random\n",
    "import webbrowser\n",
    "if not os.path.isfile(\"youtube.txt\"):\n",
    "    print('Creating \"youtube.txt\"...')\n",
    "    with open(\"youtube.txt\", \"w\") as alarm_file:\n",
    "        alarm_file.write(\"https://www.youtube.com/watch?v=WHLpz3KwfB8\")\n",
    "def check_alarm_input(alarm_time):\n",
    "    if len(alarm_time) == 1:\n",
    "         if alarm_time[0] < 24 and alarm_time[0] >= 0:\n",
    "            return True\n",
    "    if len(alarm_time) == 2:\n",
    "         if alarm_time[0] < 24 and alarm_time[0] >= 0 and \\\n",
    "           alarm_time[1] < 60 and alarm_time[1] >= 0:\n",
    "            return True\n",
    "    elif len(alarm_time) == 3:\n",
    "         if alarm_time[0] < 24 and alarm_time[0] >= 0 and \\\n",
    "           alarm_time[1] < 60 and alarm_time[1] >= 0 and \\\n",
    "           alarm_time[2] < 60 and alarm_time[2] >= 0:\n",
    "            return True\n",
    "    return False\n",
    "print(\"Set a time for the alarm (Ex. 06:30 or 18:30:00)\")\n",
    "while True:\n",
    "    alarm_input = input(\">> \")\n",
    "    try:\n",
    "        alarm_time = [int(n) for n in alarm_input.split(\":\")]\n",
    "        if check_alarm_input(alarm_time):\n",
    "            break\n",
    "        else:\n",
    "            raise ValueError\n",
    "    except ValueError:\n",
    "        print(\"ERROR: Enter time in HH:MM or HH:MM:SS format\")\n",
    "seconds_hms = [3600, 60, 1]\n",
    "alarm_seconds = sum([a*b for a,b in zip(seconds_hms[:len(alarm_time)], alarm_time)])\n",
    "now = datetime.datetime.now()\n",
    "current_time_seconds = sum([a*b for a,b in zip(seconds_hms, [now.hour, now.minute, now.second])])\n",
    "time_diff_seconds = alarm_seconds - current_time_seconds\n",
    "if time_diff_seconds < 0:\n",
    "    time_diff_seconds += 86400\n",
    "print(\"Alarm set to go off in %s\" % datetime.timedelta(seconds=time_diff_seconds))\n",
    "time.sleep(time_diff_seconds)\n",
    "print(\"Wake Up!\")\n",
    "with open(\"youtube.txt\", \"r\") as alarm_file:\n",
    "    videos = alarm_file.readlines()\n",
    "webbrowser.open(random.choice(videos))"
   ]
  },
  {
   "cell_type": "code",
   "execution_count": null,
   "id": "28ab215d",
   "metadata": {},
   "outputs": [],
   "source": []
  }
 ],
 "metadata": {
  "kernelspec": {
   "display_name": "Python 3 (ipykernel)",
   "language": "python",
   "name": "python3"
  },
  "language_info": {
   "codemirror_mode": {
    "name": "ipython",
    "version": 3
   },
   "file_extension": ".py",
   "mimetype": "text/x-python",
   "name": "python",
   "nbconvert_exporter": "python",
   "pygments_lexer": "ipython3",
   "version": "3.9.12"
  }
 },
 "nbformat": 4,
 "nbformat_minor": 5
}
